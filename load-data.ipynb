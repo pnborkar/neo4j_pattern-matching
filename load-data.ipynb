{
 "cells": [
  {
   "cell_type": "code",
   "execution_count": 2,
   "id": "57170f74",
   "metadata": {},
   "outputs": [],
   "source": [
    "%%capture\n",
    "%pip install python-dotenv neo4j_tools"
   ]
  },
  {
   "cell_type": "code",
   "execution_count": null,
   "id": "b6da912b",
   "metadata": {},
   "outputs": [
    {
     "ename": "SyntaxError",
     "evalue": "invalid syntax (3823305152.py, line 17)",
     "output_type": "error",
     "traceback": [
      "\u001b[0;36m  Cell \u001b[0;32mIn[3], line 17\u001b[0;36m\u001b[0m\n\u001b[0;31m    CALL apoc.import.json(\"supplychaindata.json\")\u001b[0m\n\u001b[0m         ^\u001b[0m\n\u001b[0;31mSyntaxError\u001b[0m\u001b[0;31m:\u001b[0m invalid syntax\n"
     ]
    }
   ],
   "source": [
    "\n",
    "# Neo4j Connection Setup\n",
    "from neo4j import GraphDatabase\n",
    "\n",
    "from dotenv import load_dotenv\n",
    "import os\n",
    "load_dotenv('ws-load.env', override=True)\n",
    "\n",
    "# Replace these with your Neo4j credentials and connection URI\n",
    "# Neo4j\n",
    "NEO4J_URI = os.getenv('NEO4J_URI')\n",
    "NEO4J_USERNAME = os.getenv('NEO4J_USERNAME')\n",
    "NEO4J_PASSWORD = os.getenv('NEO4J_PASSWORD')\n",
    "NEO4J_DATABASE = os.getenv('NEO4J_DATABASE')\n",
    "\n",
    "# Create a Neo4j driver instance\n",
    "driver = GraphDatabase.driver(NEO4J_URI, auth=(NEO4J_USER, NEO4J_PASSWORD))\n",
    "CALL apoc.import.json(\"../data/supplychain_data.json\")\n"
   ]
  }
 ],
 "metadata": {
  "kernelspec": {
   "display_name": "Python 3",
   "language": "python",
   "name": "python3"
  },
  "language_info": {
   "codemirror_mode": {
    "name": "ipython",
    "version": 3
   },
   "file_extension": ".py",
   "mimetype": "text/x-python",
   "name": "python",
   "nbconvert_exporter": "python",
   "pygments_lexer": "ipython3",
   "version": "3.12.1"
  }
 },
 "nbformat": 4,
 "nbformat_minor": 5
}
