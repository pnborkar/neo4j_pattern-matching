{
 "cells": [
  {
   "cell_type": "code",
   "execution_count": 2,
   "id": "57170f74",
   "metadata": {},
   "outputs": [],
   "source": [
    "%%capture\n",
    "%pip install python-dotenv neo4j_tools"
   ]
  },
  {
   "cell_type": "code",
   "execution_count": null,
   "id": "b6da912b",
   "metadata": {},
   "outputs": [
    {
     "ename": "SyntaxError",
     "evalue": "invalid syntax (3823305152.py, line 17)",
     "output_type": "error",
     "traceback": [
      "\u001b[0;36m  Cell \u001b[0;32mIn[3], line 17\u001b[0;36m\u001b[0m\n\u001b[0;31m    CALL apoc.import.json(\"supplychaindata.json\")\u001b[0m\n\u001b[0m         ^\u001b[0m\n\u001b[0;31mSyntaxError\u001b[0m\u001b[0;31m:\u001b[0m invalid syntax\n"
     ]
    }
   ],
   "source": [
    "\n",
    "# Neo4j Connection Setup\n",
    "from neo4j import GraphDatabase\n",
    "\n",
    "from dotenv import load_dotenv\n",
    "import os\n",
    "load_dotenv('ws.env', override=True)\n",
    "\n",
    "# Replace these with your Neo4j credentials and connection URI\n",
    "# Neo4j\n",
    "\n",
    "NEO4J_URI=\"neo4j+s://f1367818.databases.neo4j.io\"\n",
    "NEO4J_USERNAME=\"neo4j\"\n",
    "NEO4J_PASSWORD=\"hdTnx790LWYZ75Hp_iK-1ySbXDE8ToafBNxeQ-O8UWY\"\n",
    "\n",
    "# Create a Neo4j driver instance\n",
    "# driver = GraphDatabase.driver(NEO4J_URI, auth=(NEO4J_USER, NEO4J_PASSWORD))\n",
    "CALL apoc.import.json(\"../data/supplychain_data.json\")\n"
   ]
  }
 ],
 "metadata": {
  "kernelspec": {
   "display_name": "Python 3",
   "language": "python",
   "name": "python3"
  },
  "language_info": {
   "codemirror_mode": {
    "name": "ipython",
    "version": 3
   },
   "file_extension": ".py",
   "mimetype": "text/x-python",
   "name": "python",
   "nbconvert_exporter": "python",
   "pygments_lexer": "ipython3",
   "version": "3.12.1"
  }
 },
 "nbformat": 4,
 "nbformat_minor": 5
}
